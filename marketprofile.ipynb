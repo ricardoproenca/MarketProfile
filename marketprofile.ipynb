{
 "cells": [
  {
   "cell_type": "markdown",
   "metadata": {},
   "source": [
    "# MarketProfile\n",
    "O Perfil de Mercado é uma forma de simplificar a ação do preço de mercado e determinar a área que os negociadores encontraram como valor justo.\n",
    "\n",
    "Embora o Perfil de Mercado não seja um método de entrada e saída em si, podemos usá-lo como um medidor do sentimento do mercado para determinar quais níveis provavelmente terão muita ação e para identificar logo no início que tipo de dia está se formando."
   ]
  },
  {
   "cell_type": "markdown",
   "metadata": {},
   "source": [
    "# Compra e Venda com Perfil de Mercado \n",
    "Quando olhamos para o Perfil de Mercado, queremos comparar o perfil de desenvolvimento (ação do preço de hoje) com o perfil do dia anterior.\n",
    "\n",
    "Você provavelmente pode identificar uma formação de tendência, observando o movimento da área de valor. Se o POC e a área de valor estão se movendo na mesma direção dia após dia, é um sinal claro de que estamos tendendo. Quando o POC começa a se mover lateralmente, alinha-se com o POC anterior ou negociamos principalmente dentro da área de valor do dia anterior, é um sinal de que a tendência está mudando ou que não existe tendência e estamos nos movendo para os lados.\n",
    "\n",
    "Quando abrimos acima, o valor e o volume são fortes (ou aumentando), isso nos diz que preços mais altos estão sendo aceitos. Quando abrimos acima do valor e o volume é fraco, isso é um sinal de que provavelmente cairemos de volta no valor.\n",
    "\n",
    "O mesmo é válido para a abertura abaixo do valor. O volume forte indica que os preços estão sendo aceitos, o volume leve é ​​um sinal de que não vamos gastar muito tempo nesse nível."
   ]
  },
  {
   "cell_type": "markdown",
   "metadata": {},
   "source": [
    "# Definições de perfil de mercado\n",
    "Time Price Opportunity (TPO)  - As letras atribuídas a cada período de 30 minutos.\n",
    "\n",
    "Balanço inicial - o intervalo das primeiras horas.\n",
    "\n",
    "Área de Valor - onde ocorreu 70% da negociação do dia.\n",
    "\n",
    "Área de Valor alto (VAH)  - O nível superior da área de valor.\n",
    "\n",
    "Área de valor baixo (VAL) - O nível inferior da área de valor.\n",
    "\n",
    "Ponto de Controle (POC) - Preço onde ocorreu a maior parte das negociações (linha mais longa de TPOs).\n",
    "\n",
    "Cauda de Compra / Impressão de venda Única - Quando o preço gera uma impressão de uma letra em uma linha.\n",
    "\n",
    "Intervalo - O máximo para o mínimo da ação do preço de um dia\n",
    "\n",
    "Extensão de intervalo - uma extensão de preço além do saldo inicial."
   ]
  },
  {
   "cell_type": "code",
   "execution_count": 1,
   "metadata": {},
   "outputs": [
    {
     "name": "stdout",
     "output_type": "stream",
     "text": [
      "Requirement already satisfied: marketprofile in c:\\users\\rlpro\\anaconda3\\lib\\site-packages (0.2.0)\n",
      "Requirement already satisfied: numpy>=1.13.0 in c:\\users\\rlpro\\anaconda3\\lib\\site-packages (from marketprofile) (1.16.4)\n",
      "Requirement already satisfied: scipy>=0.11.0 in c:\\users\\rlpro\\anaconda3\\lib\\site-packages (from marketprofile) (1.4.1)\n",
      "Requirement already satisfied: pandas>=0.20.3 in c:\\users\\rlpro\\anaconda3\\lib\\site-packages (from marketprofile) (0.24.2)\n",
      "Requirement already satisfied: pytz>=2011k in c:\\users\\rlpro\\anaconda3\\lib\\site-packages (from pandas>=0.20.3->marketprofile) (2019.1)\n",
      "Requirement already satisfied: python-dateutil>=2.5.0 in c:\\users\\rlpro\\anaconda3\\lib\\site-packages (from pandas>=0.20.3->marketprofile) (2.8.0)\n",
      "Requirement already satisfied: six>=1.5 in c:\\users\\rlpro\\anaconda3\\lib\\site-packages (from python-dateutil>=2.5.0->pandas>=0.20.3->marketprofile) (1.12.0)\n",
      "Note: you may need to restart the kernel to use updated packages.\n"
     ]
    }
   ],
   "source": [
    "pip install marketprofile"
   ]
  },
  {
   "cell_type": "code",
   "execution_count": 2,
   "metadata": {},
   "outputs": [],
   "source": [
    "from market_profile import MarketProfile\n",
    "import pandas_datareader as data\n",
    "import matplotlib.pyplot as plt\n",
    "ticker = data.DataReader('UGPA3.SA', data_source='yahoo', start='2020-08-01', end='2020-08-20')"
   ]
  },
  {
   "cell_type": "code",
   "execution_count": 3,
   "metadata": {},
   "outputs": [],
   "source": [
    "mp = MarketProfile(ticker)\n",
    "mp_slice = mp[ticker.index.min():ticker.index.max()]"
   ]
  },
  {
   "cell_type": "code",
   "execution_count": 4,
   "metadata": {},
   "outputs": [
    {
     "data": {
      "text/plain": [
       "Close\n",
       "18.30     4534200\n",
       "18.55     9143400\n",
       "18.70     6613500\n",
       "18.80     4672300\n",
       "18.85     9355100\n",
       "18.90    13308200\n",
       "19.00     6595800\n",
       "19.05     4602300\n",
       "19.10     2962600\n",
       "19.25     6533500\n",
       "19.65     3219700\n",
       "19.70    15501300\n",
       "Name: Volume, dtype: int64"
      ]
     },
     "execution_count": 4,
     "metadata": {},
     "output_type": "execute_result"
    }
   ],
   "source": [
    "mp_slice.profile"
   ]
  },
  {
   "cell_type": "code",
   "execution_count": 5,
   "metadata": {},
   "outputs": [
    {
     "data": {
      "text/plain": [
       "(18.510000228881836, 19.229999542236328)"
      ]
     },
     "execution_count": 5,
     "metadata": {},
     "output_type": "execute_result"
    }
   ],
   "source": [
    "mp_slice.initial_balance()"
   ]
  },
  {
   "cell_type": "code",
   "execution_count": 6,
   "metadata": {},
   "outputs": [
    {
     "data": {
      "text/plain": [
       "(18.510000228881836, 19.229999542236328)"
      ]
     },
     "execution_count": 6,
     "metadata": {},
     "output_type": "execute_result"
    }
   ],
   "source": [
    "mp_slice.open_range()"
   ]
  },
  {
   "cell_type": "code",
   "execution_count": 7,
   "metadata": {},
   "outputs": [
    {
     "data": {
      "text/plain": [
       "19.7"
      ]
     },
     "execution_count": 7,
     "metadata": {},
     "output_type": "execute_result"
    }
   ],
   "source": [
    "mp_slice.poc_price"
   ]
  },
  {
   "cell_type": "code",
   "execution_count": 8,
   "metadata": {},
   "outputs": [
    {
     "data": {
      "text/plain": [
       "(18.3, 19.7)"
      ]
     },
     "execution_count": 8,
     "metadata": {},
     "output_type": "execute_result"
    }
   ],
   "source": [
    "mp_slice.profile_range"
   ]
  },
  {
   "cell_type": "code",
   "execution_count": 9,
   "metadata": {},
   "outputs": [
    {
     "data": {
      "text/plain": [
       "(18.85, 19.7)"
      ]
     },
     "execution_count": 9,
     "metadata": {},
     "output_type": "execute_result"
    }
   ],
   "source": [
    "mp_slice.value_area"
   ]
  },
  {
   "cell_type": "code",
   "execution_count": 10,
   "metadata": {},
   "outputs": [
    {
     "data": {
      "text/plain": [
       "21.099999999999998"
      ]
     },
     "execution_count": 10,
     "metadata": {},
     "output_type": "execute_result"
    }
   ],
   "source": [
    "mp_slice.balanced_target"
   ]
  },
  {
   "cell_type": "code",
   "execution_count": 11,
   "metadata": {},
   "outputs": [
    {
     "data": {
      "text/plain": [
       "Close\n",
       "18.80    4672300\n",
       "19.10    2962600\n",
       "19.65    3219700\n",
       "Name: Volume, dtype: int64"
      ]
     },
     "execution_count": 11,
     "metadata": {},
     "output_type": "execute_result"
    }
   ],
   "source": [
    "mp_slice.low_value_nodes"
   ]
  },
  {
   "cell_type": "code",
   "execution_count": 12,
   "metadata": {},
   "outputs": [
    {
     "data": {
      "text/plain": [
       "Close\n",
       "18.55     9143400\n",
       "18.90    13308200\n",
       "19.25     6533500\n",
       "Name: Volume, dtype: int64"
      ]
     },
     "execution_count": 12,
     "metadata": {},
     "output_type": "execute_result"
    }
   ],
   "source": [
    "mp_slice.high_value_nodes"
   ]
  },
  {
   "cell_type": "code",
   "execution_count": 13,
   "metadata": {},
   "outputs": [
    {
     "data": {
      "text/plain": [
       "<matplotlib.axes._subplots.AxesSubplot at 0x25e69c934a8>"
      ]
     },
     "execution_count": 13,
     "metadata": {},
     "output_type": "execute_result"
    },
    {
     "data": {
      "image/png": "[encoded data removed]",
      "text/plain": [
       "<Figure size 720x360 with 1 Axes>"
      ]
     },
     "metadata": {
      "needs_background": "light"
     },
     "output_type": "display_data"
    }
   ],
   "source": [
    "mp_slice.profile.plot(figsize = (10,5))"
   ]
  },
  {
   "cell_type": "code",
   "execution_count": 14,
   "metadata": {},
   "outputs": [
    {
     "name": "stdout",
     "output_type": "stream",
     "text": [
      "Initial balance: 18.510000,19.230000\n",
      "Opening range: 18.510000, 19.230000\n",
      "POC: 19.700000\n",
      "Profile range: 18.300000, 19.700000\n",
      "Value area: 18.850000, 19.700000\n",
      "Balanced Target: 21.100000\n"
     ]
    }
   ],
   "source": [
    "print ('Initial balance: %f,%f'%mp_slice.initial_balance()) # Balanço inicial - o intervalo das primeiras horas.\n",
    "print ('Opening range: %f, %f' % mp_slice.open_range()) # Variação inicial \n",
    "print ('POC: %f' % mp_slice.poc_price) # Preço onde ocorreu a maior parte das negociações (linha mais longa de TPOs)\n",
    "print ('Profile range: %f, %f' % mp_slice.profile_range) #Range onde ocorreu a maior parte das negociações (linha mais longa de TPOs).\n",
    "print ('Value area: %f, %f' % mp_slice.value_area) # Onde ocorreu 70% da negociação do dia.\n",
    "print ('Balanced Target: %f' % mp_slice.balanced_target) # Variação Alvo."
   ]
  },
  {
   "cell_type": "markdown",
   "metadata": {},
   "source": [
    "Fonte: https://eminimind.com/the-ultimate-guide-to-market-profile/"
   ]
  }
 ],
 "metadata": {
  "kernelspec": {
   "display_name": "Python 3.7.3 64-bit ('base': conda)",
   "language": "python",
   "name": "python37364bitbasecondac3187a33bb6b4b858aad71feb598639b"
  },
  "language_info": {
   "codemirror_mode": {
    "name": "ipython",
    "version": 3
   },
   "file_extension": ".py",
   "mimetype": "text/x-python",
   "name": "python",
   "nbconvert_exporter": "python",
   "pygments_lexer": "ipython3",
   "version": "3.7.3"
  }
 },
 "nbformat": 4,
 "nbformat_minor": 2
}
